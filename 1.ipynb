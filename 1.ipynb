{
 "cells": [
  {
   "cell_type": "code",
   "execution_count": 1,
   "metadata": {},
   "outputs": [],
   "source": [
    "import numpy as np\n",
    "import seaborn as sns\n",
    "import random\n",
    "import matplotlib.pyplot as plt\n",
    "%matplotlib inline\n",
    "%config InlineBackend.figure_format = \"retina\""
   ]
  },
  {
   "cell_type": "code",
   "execution_count": 2,
   "metadata": {},
   "outputs": [],
   "source": [
    "from importlib import reload"
   ]
  },
  {
   "cell_type": "code",
   "execution_count": 3,
   "metadata": {},
   "outputs": [
    {
     "name": "stdout",
     "output_type": "stream",
     "text": [
      "{'SAMPLE': 'ENCFF873NOV', 'bin_size': '100 Kbp', 'lambda_DNA_content_vs_nuclear': '0.2145', 'lambda_DNA_content_vs_MT': '38'}\n"
     ]
    }
   ],
   "source": [
    "\n",
    "########################################\n",
    "\n",
    "import math\n",
    "from typing import NamedTuple, List, Tuple, Dict, Any\n",
    "\n",
    "import pysam\n",
    "import numpy as np\n",
    "\n",
    "rng = np.random.default_rng()\n",
    "# import scipy.stats\n",
    "\n",
    "from numpy.typing import NDArray\n",
    "# import pandas as pd\n",
    "\n",
    "import tqdm\n",
    "import matplotlib.pyplot as plt\n",
    "import matplotlib\n",
    "matplotlib.rcParams[\"svg.fonttype\"] = 'none'\n",
    "\n",
    "# import array\n",
    "import gzip\n",
    "import io\n",
    "import sys\n",
    "from argparse import ArgumentParser\n",
    "import re\n",
    "import random\n",
    "import json\n",
    "import itertools\n",
    "\n",
    "# import pdb\n",
    "\n",
    "\n",
    "#######\n",
    "\n",
    "from src.config import *\n",
    "from src.utils import *\n",
    "\n",
    "from src.coverage import MyFastaFile, MyAlignmentFile, Quality\n",
    "# from src.figures import *\n",
    "from src.quality import *\n",
    "from src.pangene import *\n",
    "# from src.sampling import *\n",
    "from src.summary import *\n",
    "from src.updateBinning import *\n",
    "\n",
    "from src.mt import *\n",
    "from src.lambdaDNA import *\n",
    "from src.plastid import *\n",
    "\n",
    "#############################\n",
    "#### config parameters\n",
    "#############################\n",
    "\n",
    "\n",
    "# data exported to Jinja\n",
    "# data = {}\n",
    "# config_params()\n",
    "def config_params_further():\n",
    "        \n",
    "    SAMPLE = re.search(r'/?([^/\\.]+)\\.?[^/]*$', params['bamfile']).groups()[0]\n",
    "    # print(SAMPLE)\n",
    "    data['SAMPLE'] = SAMPLE\n",
    "\n",
    "    # nuclear bin size \n",
    "    a, b = prefixBpSize(params['binSize'])\n",
    "    if a - np.ceil(a) < 1e-6:\n",
    "        data['bin_size'] = f'{int(a)} {b}'\n",
    "    else:\n",
    "        data['bin_size'] = f'{a} {b}'\n",
    "    data['bin_size']\n",
    "\n",
    "    fa = MyFastaFile(params['fafile'])\n",
    "    params['fa'] = fa\n",
    "\n",
    "    reference_length = fa.get_reference_length\n",
    "    params['reference_length'] = reference_length\n",
    "\n",
    "    # chrs to sample and compt\n",
    "    chrs_valid = params['testchrs'].split(',')\n",
    "    # lengths of chrs\n",
    "    lens_valid = [reference_length(chr) for chr in chrs_valid]\n",
    "    params['chrs_valid'] = chrs_valid\n",
    "    params['lens_valid'] = lens_valid\n",
    "\n",
    "    chr_lambda = params['chr_lambda']\n",
    "    bins_lambda = params['bins_lambda']\n",
    "    chr_MT = params['chr_MT']\n",
    "\n",
    "    binSize_lambda = getBins(reference_length(chr_lambda), bins_lambda)\n",
    "    binSize_MT = getBins(reference_length(chr_MT), bins_lambda)\n",
    "    binSizeContig = {chr_lambda: binSize_lambda[0], chr_MT: binSize_MT[0]}\n",
    "    binsContig = {chr_lambda: binSize_lambda[1], chr_MT: binSize_MT[1]}\n",
    "    chrs_alias = {'lambda': chr_lambda, 'MT': chr_MT}\n",
    "\n",
    "    params['binSize_lambda'] = binSize_lambda\n",
    "    params['binSize_MT'] = binSize_MT\n",
    "    params['binSizeContig'] = binSizeContig\n",
    "    params['binsContig'] = binsContig\n",
    "    params['chrs_alias'] = chrs_alias\n",
    "    \n",
    "    bam = MyAlignmentFile(params['bamfile'], 'rb')\n",
    "    params['bam'] = bam\n",
    "\n",
    "    # classes\n",
    "    # ('chr1', 23) -> BinCov()\n",
    "    dict_binning = dict()\n",
    "    params['dict_binning'] = dict_binning\n",
    "\n",
    "    # 'XXCGXX' -> KmerCov()\n",
    "    dict_cgkmer = dict()\n",
    "    params['dict_cgkmer'] = dict_cgkmer\n",
    "\n",
    "    # quality stats\n",
    "    quality = Quality()\n",
    "    params['quality'] = quality\n",
    "\n",
    "    params['reads_to_sample'] = min([params['reads_to_sample'], bam.mapped])\n",
    "    \n",
    "\n",
    "#######################################\n",
    "#### summarization and plots\n",
    "#######################################\n",
    "\n",
    "config_params_further()\n",
    "\n",
    "# DNA content\n",
    "compt_plot_DNA_content()\n",
    "\n",
    "# # base and read quality\n",
    "# compt_quality()\n",
    "# plot_read_length()\n",
    "# plot_base_quality()\n",
    "# plot_read_map_quality()\n",
    "# plot_bar_base_cigar()\n",
    "\n",
    "# # pangene\n",
    "# pangene_sampling()\n",
    "# pangene_compt_plot_meth()\n",
    "\n",
    "# # MT\n",
    "# compt_MT()\n",
    "# if data['mt_is_covered'] == 1:\n",
    "#     plot_mt_depth_binning()\n",
    "#     plot_mt_base_error_rate()\n",
    "\n",
    "# # lambda\n",
    "# compt_lambda()\n",
    "# if data['lambda_is_covered'] == 1:\n",
    "#     plot_lambda_depth_binning()\n",
    "#     plot_lambda_base_error_rate()\n",
    "\n",
    "# # plastid\n",
    "# compt_plastid()\n",
    "# if data['plastid_is_covered'] == 1:\n",
    "#     plot_plastid_depth_binning()\n",
    "#     plot_plastid_base_error_rate()\n",
    "\n",
    "\n",
    "# print(params)\n",
    "print(data)\n"
   ]
  },
  {
   "cell_type": "code",
   "execution_count": 6,
   "metadata": {},
   "outputs": [
    {
     "data": {
      "text/plain": [
       "<module 'src.summary' from '/root/bsDoctor/src/summary.py'>"
      ]
     },
     "execution_count": 6,
     "metadata": {},
     "output_type": "execute_result"
    }
   ],
   "source": [
    "import src.summary\n",
    "reload(src.summary)"
   ]
  },
  {
   "cell_type": "code",
   "execution_count": 7,
   "metadata": {},
   "outputs": [],
   "source": [
    "src.summary.compt_plot_DNA_content()"
   ]
  },
  {
   "cell_type": "code",
   "execution_count": 8,
   "metadata": {},
   "outputs": [],
   "source": [
    "import pickle"
   ]
  },
  {
   "cell_type": "code",
   "execution_count": 11,
   "metadata": {},
   "outputs": [],
   "source": [
    "with open(\"./data.pickle\", 'rb') as fd:\n",
    "    data = pickle.load(fd)"
   ]
  },
  {
   "cell_type": "code",
   "execution_count": 24,
   "metadata": {},
   "outputs": [
    {
     "data": {
      "text/plain": [
       "<module 'bsDoctor' from '/root/bsDoctor/bsDoctor.py'>"
      ]
     },
     "execution_count": 24,
     "metadata": {},
     "output_type": "execute_result"
    }
   ],
   "source": [
    "import bsDoctor\n",
    "reload(bsDoctor)"
   ]
  },
  {
   "cell_type": "code",
   "execution_count": 25,
   "metadata": {},
   "outputs": [],
   "source": [
    "bsDoctor.write_report()"
   ]
  },
  {
   "cell_type": "code",
   "execution_count": null,
   "metadata": {},
   "outputs": [],
   "source": [
    "from argparse import"
   ]
  },
  {
   "cell_type": "code",
   "execution_count": null,
   "metadata": {},
   "outputs": [],
   "source": [
    "class MyArgumentParser(ArgumentParser):\n",
    "    def __init__(self, **args) -> None:\n",
    "        super().__init__(**args)\n"
   ]
  }
 ],
 "metadata": {
  "kernelspec": {
   "display_name": "base",
   "language": "python",
   "name": "python3"
  },
  "language_info": {
   "codemirror_mode": {
    "name": "ipython",
    "version": 3
   },
   "file_extension": ".py",
   "mimetype": "text/x-python",
   "name": "python",
   "nbconvert_exporter": "python",
   "pygments_lexer": "ipython3",
   "version": "3.12.4"
  }
 },
 "nbformat": 4,
 "nbformat_minor": 2
}
