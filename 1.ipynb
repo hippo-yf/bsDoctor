{
 "cells": [
  {
   "cell_type": "code",
   "execution_count": 7,
   "metadata": {},
   "outputs": [],
   "source": [
    "import numpy as np\n",
    "import seaborn as sns\n",
    "import random\n",
    "import matplotlib.pyplot as plt\n",
    "%matplotlib inline\n",
    "%config InlineBackend.figure_format = \"retina\""
   ]
  },
  {
   "cell_type": "code",
   "execution_count": 35,
   "metadata": {},
   "outputs": [],
   "source": [
    "from importlib import reload"
   ]
  },
  {
   "cell_type": "code",
   "execution_count": 24,
   "metadata": {},
   "outputs": [
    {
     "name": "stdout",
     "output_type": "stream",
     "text": [
      "{'SAMPLE': 'ENCFF873NOV', 'bin_size': '100 Kbp', 'lambda_DNA_content_vs_nuclear': '0.2145', 'lambda_DNA_content_vs_MT': '38', 'MT_is_covered': 1, 'mt_nCorG': '7,350', 'mt_covnCorG': '7,133', 'mt_covnCorG_prop': '97.05', 'mt_length': '16,568', 'mt_covn': '16,568', 'mt_cov_prop': '100', 'mt_bin_size': '20', 'mt_median_dp': '4.195e+04', 'mt_mean_dp': '4.592e+04', 'mt_me': '0.009847', 'bsrate_mt': '99.02', 'err_rate_mt': '7.03', 'mt_is_covered': 1, 'dict_lambda': <src.coverage.CovLambda object at 0x7f0ab0280da0>, 'lambda_is_covered': 1, 'lambda_nCorG': '24,182', 'lambda_covnCorG': '24,182', 'lambda_covnCorG_prop': '100', 'lambda_length': '48,502', 'lambda_covn': '48,502', 'lambda_cov_prop': '100', 'lambda_size': '50', 'lambda_median_dp': '3685', 'lambda_mean_dp': '5945', 'bsrate_lambda': '99.01', 'err_rate_lambda': '15.61'}\n"
     ]
    }
   ],
   "source": [
    "\n",
    "########################################\n",
    "\n",
    "import math\n",
    "from typing import NamedTuple, List, Tuple, Dict, Any\n",
    "\n",
    "import pysam\n",
    "import numpy as np\n",
    "\n",
    "rng = np.random.default_rng()\n",
    "# import scipy.stats\n",
    "\n",
    "from numpy.typing import NDArray\n",
    "# import pandas as pd\n",
    "\n",
    "import tqdm\n",
    "import matplotlib.pyplot as plt\n",
    "import matplotlib\n",
    "matplotlib.rcParams[\"svg.fonttype\"] = 'none'\n",
    "\n",
    "# import array\n",
    "import gzip\n",
    "import io\n",
    "import sys\n",
    "from argparse import ArgumentParser\n",
    "import re\n",
    "import random\n",
    "import json\n",
    "import itertools\n",
    "\n",
    "# import pdb\n",
    "\n",
    "\n",
    "#######\n",
    "\n",
    "from src.config import *\n",
    "from src.utils import *\n",
    "\n",
    "from src.coverage import MyFastaFile, MyAlignmentFile, Quality\n",
    "# from src.figures import *\n",
    "from src.quality import *\n",
    "from src.pangene import *\n",
    "# from src.sampling import *\n",
    "from src.summary import *\n",
    "from src.updateBinning import *\n",
    "\n",
    "from src.mt import *\n",
    "from src.lambdaDNA import *\n",
    "from src.plastid import *\n",
    "\n",
    "#############################\n",
    "#### config parameters\n",
    "#############################\n",
    "\n",
    "\n",
    "# data exported to Jinja\n",
    "# data = {}\n",
    "# config_params()\n",
    "def config_params_further():\n",
    "        \n",
    "    SAMPLE = re.search(r'/?([^/\\.]+)\\.?[^/]*$', params['bamfile']).groups()[0]\n",
    "    # print(SAMPLE)\n",
    "    data['SAMPLE'] = SAMPLE\n",
    "\n",
    "    # nuclear bin size \n",
    "    a, b = prefixBpSize(params['binSize'])\n",
    "    if a - np.ceil(a) < 1e-6:\n",
    "        data['bin_size'] = f'{int(a)} {b}'\n",
    "    else:\n",
    "        data['bin_size'] = f'{a} {b}'\n",
    "    data['bin_size']\n",
    "\n",
    "    fa = MyFastaFile(params['fafile'])\n",
    "    params['fa'] = fa\n",
    "\n",
    "    reference_length = fa.get_reference_length\n",
    "    params['reference_length'] = reference_length\n",
    "\n",
    "    # chrs to sample and compt\n",
    "    chrs_valid = params['testchrs'].split(',')\n",
    "    # lengths of chrs\n",
    "    lens_valid = [reference_length(chr) for chr in chrs_valid]\n",
    "    params['chrs_valid'] = chrs_valid\n",
    "    params['lens_valid'] = lens_valid\n",
    "\n",
    "    chr_lambda = params['chr_lambda']\n",
    "    bins_lambda = params['bins_lambda']\n",
    "    chr_MT = params['chr_MT']\n",
    "\n",
    "    binSize_lambda = getBins(reference_length(chr_lambda), bins_lambda)\n",
    "    binSize_MT = getBins(reference_length(chr_MT), bins_lambda)\n",
    "    binSizeContig = {chr_lambda: binSize_lambda[0], chr_MT: binSize_MT[0]}\n",
    "    binsContig = {chr_lambda: binSize_lambda[1], chr_MT: binSize_MT[1]}\n",
    "    chrs_alias = {'lambda': chr_lambda, 'MT': chr_MT}\n",
    "\n",
    "    params['binSize_lambda'] = binSize_lambda\n",
    "    params['binSize_MT'] = binSize_MT\n",
    "    params['binSizeContig'] = binSizeContig\n",
    "    params['binsContig'] = binsContig\n",
    "    params['chrs_alias'] = chrs_alias\n",
    "    \n",
    "    bam = MyAlignmentFile(params['bamfile'], 'rb')\n",
    "    params['bam'] = bam\n",
    "\n",
    "    # classes\n",
    "    # ('chr1', 23) -> BinCov()\n",
    "    dict_binning = dict()\n",
    "    params['dict_binning'] = dict_binning\n",
    "\n",
    "    # 'XXCGXX' -> KmerCov()\n",
    "    dict_cgkmer = dict()\n",
    "    params['dict_cgkmer'] = dict_cgkmer\n",
    "\n",
    "    # quality stats\n",
    "    quality = Quality()\n",
    "    params['quality'] = quality\n",
    "\n",
    "    params['reads_to_sample'] = min([params['reads_to_sample'], bam.mapped])\n",
    "    \n",
    "\n",
    "#######################################\n",
    "#### summarization and plots\n",
    "#######################################\n",
    "\n",
    "config_params_further()\n",
    "\n",
    "# DNA content\n",
    "compt_DNA_content()\n",
    "\n",
    "# # base and read quality\n",
    "# compt_quality()\n",
    "# plot_read_length()\n",
    "# plot_base_quality()\n",
    "# plot_read_map_quality()\n",
    "# plot_bar_base_cigar()\n",
    "\n",
    "# # pangene\n",
    "# pangene_sampling()\n",
    "# pangene_compt_plot_meth()\n",
    "\n",
    "# # MT\n",
    "# compt_MT()\n",
    "# if data['mt_is_covered'] == 1:\n",
    "#     plot_mt_depth_binning()\n",
    "#     plot_mt_base_error_rate()\n",
    "\n",
    "# # lambda\n",
    "# compt_lambda()\n",
    "# if data['lambda_is_covered'] == 1:\n",
    "#     plot_lambda_depth_binning()\n",
    "#     plot_lambda_base_error_rate()\n",
    "\n",
    "# # plastid\n",
    "# compt_plastid()\n",
    "# if data['plastid_is_covered'] == 1:\n",
    "#     plot_plastid_depth_binning()\n",
    "#     plot_plastid_base_error_rate()\n",
    "\n",
    "\n",
    "# print(params)\n",
    "print(data)\n"
   ]
  },
  {
   "cell_type": "code",
   "execution_count": 15,
   "metadata": {},
   "outputs": [],
   "source": [
    "from src.bin_chr_wise import *\n",
    "from src.whole_genome import *"
   ]
  },
  {
   "cell_type": "code",
   "execution_count": 16,
   "metadata": {},
   "outputs": [],
   "source": [
    "config_params_further()"
   ]
  },
  {
   "cell_type": "code",
   "execution_count": 18,
   "metadata": {},
   "outputs": [
    {
     "name": "stderr",
     "output_type": "stream",
     "text": [
      "100%|██████████| 4/4 [02:32<00:00, 38.00s/it]\n"
     ]
    }
   ],
   "source": [
    "compt_MT()"
   ]
  },
  {
   "cell_type": "code",
   "execution_count": null,
   "metadata": {},
   "outputs": [],
   "source": [
    "if data['mt_is_covered'] == 1:\n",
    "    plot_mt_depth_binning()\n",
    "    plot_mt_base_error_rate()\n"
   ]
  },
  {
   "cell_type": "code",
   "execution_count": 30,
   "metadata": {},
   "outputs": [],
   "source": [
    "\n",
    "import src.lambdaDNA"
   ]
  },
  {
   "cell_type": "code",
   "execution_count": 43,
   "metadata": {},
   "outputs": [
    {
     "data": {
      "text/plain": [
       "<module 'src.plastid' from '/root/bsDoctor/src/plastid.py'>"
      ]
     },
     "execution_count": 43,
     "metadata": {},
     "output_type": "execute_result"
    }
   ],
   "source": [
    "import src.plastid\n",
    "reload(src.plastid)"
   ]
  },
  {
   "cell_type": "code",
   "execution_count": 39,
   "metadata": {},
   "outputs": [
    {
     "name": "stderr",
     "output_type": "stream",
     "text": [
      "100%|██████████| 10/10 [00:54<00:00,  5.44s/it]\n"
     ]
    }
   ],
   "source": [
    "# lambda\n",
    "src.lambdaDNA.compt_lambda()"
   ]
  },
  {
   "cell_type": "code",
   "execution_count": null,
   "metadata": {},
   "outputs": [],
   "source": [
    "if data['lambda_is_covered'] == 1:\n",
    "    plot_lambda_depth_binning()\n",
    "    plot_lambda_base_error_rate()"
   ]
  },
  {
   "cell_type": "code",
   "execution_count": 44,
   "metadata": {},
   "outputs": [],
   "source": [
    "# plastid\n",
    "src.plastid.compt_plastid()\n",
    "if data['plastid_is_covered'] == 1:\n",
    "    plot_plastid_depth_binning()\n",
    "    plot_plastid_base_error_rate()\n"
   ]
  },
  {
   "cell_type": "code",
   "execution_count": 179,
   "metadata": {},
   "outputs": [
    {
     "data": {
      "text/plain": [
       "<module 'src.bin_chr_wise' from '/root/bsDoctor/src/bin_chr_wise.py'>"
      ]
     },
     "execution_count": 179,
     "metadata": {},
     "output_type": "execute_result"
    }
   ],
   "source": [
    "import src.bin_chr_wise\n",
    "\n",
    "reload(src.bin_chr_wise)"
   ]
  },
  {
   "cell_type": "code",
   "execution_count": 158,
   "metadata": {},
   "outputs": [],
   "source": [
    "src.bin_chr_wise.compt_chr_and_bin_wise()"
   ]
  },
  {
   "cell_type": "code",
   "execution_count": 236,
   "metadata": {},
   "outputs": [
    {
     "data": {
      "text/plain": [
       "<module 'src.utils' from '/root/bsDoctor/src/utils.py'>"
      ]
     },
     "execution_count": 236,
     "metadata": {},
     "output_type": "execute_result"
    }
   ],
   "source": [
    "import src.utils\n",
    "import src.whole_genome\n",
    "\n",
    "reload(src.whole_genome)\n",
    "reload(src.utils)"
   ]
  },
  {
   "cell_type": "code",
   "execution_count": 237,
   "metadata": {},
   "outputs": [],
   "source": [
    "# nuclear whole-genome\n",
    "src.whole_genome.compt_whole_genome()"
   ]
  },
  {
   "cell_type": "code",
   "execution_count": 238,
   "metadata": {},
   "outputs": [
    {
     "data": {
      "text/plain": [
       "<module 'src.saturation_curve_and_DNA_lost' from '/root/bsDoctor/src/saturation_curve_and_DNA_lost.py'>"
      ]
     },
     "execution_count": 238,
     "metadata": {},
     "output_type": "execute_result"
    }
   ],
   "source": [
    "import src.saturation_curve_and_DNA_lost\n",
    "reload(src.saturation_curve_and_DNA_lost)\n"
   ]
  },
  {
   "cell_type": "code",
   "execution_count": 240,
   "metadata": {},
   "outputs": [
    {
     "data": {
      "image/png": "[encoded data removed]",
      "text/plain": [
       "<Figure size 600x300 with 1 Axes>"
      ]
     },
     "metadata": {},
     "output_type": "display_data"
    }
   ],
   "source": [
    "src.saturation_curve_and_DNA_lost.compt_plot_DNA_composition()"
   ]
  },
  {
   "cell_type": "code",
   "execution_count": 239,
   "metadata": {},
   "outputs": [
    {
     "data": {
      "image/png": "[encoded data removed]",
      "text/plain": [
       "<Figure size 500x300 with 1 Axes>"
      ]
     },
     "metadata": {},
     "output_type": "display_data"
    }
   ],
   "source": [
    "src.saturation_curve_and_DNA_lost.plot_saturation_curve()"
   ]
  },
  {
   "cell_type": "code",
   "execution_count": 2,
   "metadata": {},
   "outputs": [],
   "source": [
    "import numpy as np"
   ]
  },
  {
   "cell_type": "code",
   "execution_count": 3,
   "metadata": {},
   "outputs": [],
   "source": [
    "GEN = np.random.Generator(np.random.PCG64())"
   ]
  }
 ],
 "metadata": {
  "kernelspec": {
   "display_name": "base",
   "language": "python",
   "name": "python3"
  },
  "language_info": {
   "codemirror_mode": {
    "name": "ipython",
    "version": 3
   },
   "file_extension": ".py",
   "mimetype": "text/x-python",
   "name": "python",
   "nbconvert_exporter": "python",
   "pygments_lexer": "ipython3",
   "version": "3.12.4"
  }
 },
 "nbformat": 4,
 "nbformat_minor": 2
}
