{
 "cells": [
  {
   "cell_type": "code",
   "execution_count": 1,
   "metadata": {},
   "outputs": [],
   "source": [
    "# from src.coverage import *\n",
    "# from src.config import *\n",
    "# from src.utils import *\n",
    "from bsDoctor import *\n",
    "import cProfile\n",
    "from importlib import reload"
   ]
  },
  {
   "cell_type": "code",
   "execution_count": 2,
   "metadata": {},
   "outputs": [],
   "source": [
    "# args = '-b data/SRR19264609.sorted.bam -f genome/hg38.fa -g genome/gencode.v46.annotation.gtf.gz --chr chr20,chr21,chr22 --mt chrM --control chrL'.split(' ')\n",
    " \n",
    "args = '-b data/SRR19264609.sorted.bam -f genome/hg38.fa -g genome/gencode.v46.annotation.gtf.gz --chr chr20,chr21,chr22 --mt chrM --control chrL -o rrbs-human2'.split(' ')\n",
    "\n",
    "desc = \"bsDoctor: Quality Diagnosis for Bisulfite-Seq Data\"\n",
    "parser = MyArgumentParser(description=desc)\n",
    "options = parser.parse_args(args)\n",
    "\n",
    "check_args(options)\n",
    "config_params(options)      \n",
    "config_params_further()"
   ]
  },
  {
   "cell_type": "code",
   "execution_count": 3,
   "metadata": {},
   "outputs": [
    {
     "name": "stderr",
     "output_type": "stream",
     "text": [
      "Sampling nuclear chr: 100%|██████████| 14371/14371 [01:05<00:00, 220.50it/s] \n"
     ]
    }
   ],
   "source": [
    "nuclear_sampling()\n",
    "compt_chr_and_bin_wise()"
   ]
  },
  {
   "cell_type": "code",
   "execution_count": 4,
   "metadata": {},
   "outputs": [
    {
     "name": "stderr",
     "output_type": "stream",
     "text": [
      "Sampling coding genes: 100%|██████████| 1000/1000 [01:36<00:00, 10.33it/s]\n",
      "Sampling long noncoding genes: 100%|██████████| 1000/1000 [00:39<00:00, 25.51it/s]\n",
      "Sampling other non-coding genes: 100%|██████████| 1000/1000 [00:14<00:00, 68.47it/s]\n"
     ]
    }
   ],
   "source": [
    "# pangene\n",
    "if data['include_pangene']:\n",
    "    pangene_sampling()\n",
    "    pangene_compt_plot_meth()"
   ]
  },
  {
   "cell_type": "code",
   "execution_count": 3,
   "metadata": {},
   "outputs": [
    {
     "name": "stderr",
     "output_type": "stream",
     "text": [
      "Sampling coding genes: 100%|██████████| 1000/1000 [01:04<00:00, 15.52it/s]\n",
      "Sampling long noncoding genes: 100%|██████████| 1000/1000 [00:35<00:00, 27.84it/s]\n",
      "Sampling other non-coding genes: 100%|██████████| 1000/1000 [00:11<00:00, 83.78it/s]\n",
      "Sampling MT: 100%|██████████| 4/4 [00:02<00:00,  1.67it/s]\n",
      "Sampling control DNA: 100%|██████████| 10/10 [00:00<00:00, 79.13it/s]\n",
      "Sampling nuclear chr: 100%|██████████| 272449/272449 [23:06<00:00, 196.55it/s] \n"
     ]
    }
   ],
   "source": [
    "compute_and_plot()"
   ]
  },
  {
   "cell_type": "code",
   "execution_count": 5,
   "metadata": {},
   "outputs": [],
   "source": [
    "import pickle\n",
    "from jinja2 import Environment, FileSystemLoader"
   ]
  },
  {
   "cell_type": "code",
   "execution_count": 6,
   "metadata": {},
   "outputs": [],
   "source": [
    "import bsDoctor\n",
    "import pickle\n",
    "\n",
    "with open('rrbs-human/data.pickle', 'rb') as f:\n",
    "    bsDoctor.data = pickle.load(f)"
   ]
  },
  {
   "cell_type": "code",
   "execution_count": 22,
   "metadata": {},
   "outputs": [],
   "source": [
    "bsDoctor.write_report()"
   ]
  }
 ],
 "metadata": {
  "kernelspec": {
   "display_name": ".venv",
   "language": "python",
   "name": "python3"
  },
  "language_info": {
   "codemirror_mode": {
    "name": "ipython",
    "version": 3
   },
   "file_extension": ".py",
   "mimetype": "text/x-python",
   "name": "python",
   "nbconvert_exporter": "python",
   "pygments_lexer": "ipython3",
   "version": "3.12.4"
  }
 },
 "nbformat": 4,
 "nbformat_minor": 2
}
