{
 "cells": [
  {
   "cell_type": "code",
   "execution_count": 1,
   "metadata": {},
   "outputs": [],
   "source": [
    "# from src.coverage import *\n",
    "# from src.config import *\n",
    "# from src.utils import *\n",
    "from bsDoctor import *\n",
    "import cProfile\n",
    "from importlib import reload"
   ]
  },
  {
   "cell_type": "code",
   "execution_count": 2,
   "metadata": {},
   "outputs": [],
   "source": [
    "# args = '-b data/SRR19264609.sorted.bam -f genome/hg38.fa -g genome/gencode.v46.annotation.gtf.gz --chr chr20,chr21,chr22 --mt chrM --control chrL'.split(' ')\n",
    "\n",
    "args = '-b data/SRR19264609.sorted.bam -f genome/hg38.fa -g genome/gencode.v46.annotation.gtf.gz --chr all --mt chrM --control chrL'.split(' ')\n",
    "\n",
    "desc = \"bsDoctor: Quality Diagnosis for Bisulfite-Seq Data\"\n",
    "parser = MyArgumentParser(description=desc)\n",
    "options = parser.parse_args(args)\n",
    "\n",
    "check_args(options)\n",
    "config_params(options)      \n",
    "config_params_further()"
   ]
  },
  {
   "cell_type": "code",
   "execution_count": 3,
   "metadata": {},
   "outputs": [
    {
     "name": "stderr",
     "output_type": "stream",
     "text": [
      "Sampling coding genes: 100%|██████████| 1000/1000 [01:04<00:00, 15.52it/s]\n",
      "Sampling long noncoding genes: 100%|██████████| 1000/1000 [00:35<00:00, 27.84it/s]\n",
      "Sampling other non-coding genes: 100%|██████████| 1000/1000 [00:11<00:00, 83.78it/s]\n",
      "Sampling MT: 100%|██████████| 4/4 [00:02<00:00,  1.67it/s]\n",
      "Sampling control DNA: 100%|██████████| 10/10 [00:00<00:00, 79.13it/s]\n",
      "Sampling nuclear chr: 100%|██████████| 272449/272449 [23:06<00:00, 196.55it/s] \n"
     ]
    }
   ],
   "source": [
    "compute_and_plot()"
   ]
  },
  {
   "cell_type": "code",
   "execution_count": 16,
   "metadata": {},
   "outputs": [
    {
     "data": {
      "text/plain": [
       "<module 'src.CpG_motif' from '/root/bsDoctor/src/CpG_motif.py'>"
      ]
     },
     "execution_count": 16,
     "metadata": {},
     "output_type": "execute_result"
    }
   ],
   "source": [
    "import src.CpG_motif\n",
    "reload(src.CpG_motif)"
   ]
  },
  {
   "cell_type": "code",
   "execution_count": 22,
   "metadata": {},
   "outputs": [
    {
     "data": {
      "text/plain": [
       "(1, 0)"
      ]
     },
     "execution_count": 22,
     "metadata": {},
     "output_type": "execute_result"
    }
   ],
   "source": [
    "data['mt_is_covered'], data['lambda_is_covered']"
   ]
  },
  {
   "cell_type": "code",
   "execution_count": 17,
   "metadata": {},
   "outputs": [],
   "source": [
    "src.CpG_motif.compt_CpG_motif()"
   ]
  },
  {
   "cell_type": "code",
   "execution_count": 24,
   "metadata": {},
   "outputs": [],
   "source": [
    "write_report()"
   ]
  },
  {
   "cell_type": "code",
   "execution_count": 3,
   "metadata": {},
   "outputs": [],
   "source": [
    "# DNA content\n",
    "compt_plot_DNA_content()\n",
    "\n",
    "# base and read quality\n",
    "if data['include_quality']:\n",
    "    # quality stats       \n",
    "    quality = Quality()\n",
    "    params['quality'] = quality\n",
    "    compt_quality()\n",
    "    plot_read_length()\n",
    "    plot_base_quality()\n",
    "    plot_read_map_quality()\n",
    "    plot_bar_base_cigar()\n"
   ]
  },
  {
   "cell_type": "code",
   "execution_count": 4,
   "metadata": {},
   "outputs": [
    {
     "name": "stderr",
     "output_type": "stream",
     "text": [
      "Sampling MT:   0%|          | 0/4 [00:00<?, ?it/s]"
     ]
    },
    {
     "name": "stderr",
     "output_type": "stream",
     "text": [
      "Sampling MT: 100%|██████████| 4/4 [00:01<00:00,  2.12it/s]\n",
      "Sampling control DNA: 100%|██████████| 10/10 [00:00<00:00, 101.22it/s]\n"
     ]
    }
   ],
   "source": [
    "# MT\n",
    "if data['include_mt']:\n",
    "    compt_MT()\n",
    "    if data['mt_is_covered'] == 1:\n",
    "        plot_mt_depth_binning()\n",
    "        plot_mt_base_error_rate()\n",
    "\n",
    "# lambda\n",
    "if data['include_lambda']:\n",
    "    compt_lambda()\n",
    "    if data['lambda_is_covered'] == 1:\n",
    "        plot_lambda_depth_binning()\n",
    "        plot_lambda_base_error_rate()\n",
    "\n",
    "# plastid\n",
    "if data['include_plastid']:\n",
    "    compt_plastid()\n",
    "    if data['plastid_is_covered'] == 1:\n",
    "        plot_plastid_depth_binning()\n",
    "        plot_plastid_base_error_rate()\n"
   ]
  },
  {
   "cell_type": "code",
   "execution_count": 5,
   "metadata": {},
   "outputs": [],
   "source": [
    "compt_quality()"
   ]
  },
  {
   "cell_type": "code",
   "execution_count": 5,
   "metadata": {},
   "outputs": [
    {
     "name": "stderr",
     "output_type": "stream",
     "text": [
      "Sampling coding genes: 100%|██████████| 1000/1000 [00:56<00:00, 17.61it/s]\n",
      "Sampling long-noncoding genes: 100%|██████████| 1000/1000 [00:24<00:00, 40.23it/s]\n",
      "Sampling other non-coding genes: 100%|██████████| 1000/1000 [00:09<00:00, 107.36it/s]\n"
     ]
    }
   ],
   "source": [
    "# pangene\n",
    "if data['include_pangene']:\n",
    "    pangene_sampling()\n",
    "    pangene_compt_plot_meth()\n"
   ]
  },
  {
   "cell_type": "code",
   "execution_count": 7,
   "metadata": {},
   "outputs": [
    {
     "data": {
      "text/plain": [
       "<module 'src.bin_chr_wise' from '/root/bsDoctor/src/bin_chr_wise.py'>"
      ]
     },
     "execution_count": 7,
     "metadata": {},
     "output_type": "execute_result"
    }
   ],
   "source": [
    "import src.bin_chr_wise\n",
    "reload(src.bin_chr_wise)"
   ]
  },
  {
   "cell_type": "code",
   "execution_count": 8,
   "metadata": {},
   "outputs": [
    {
     "name": "stderr",
     "output_type": "stream",
     "text": [
      "Sampling nuclear chr: 100%|██████████| 14412/14412 [01:01<00:00, 235.65it/s] \n"
     ]
    }
   ],
   "source": [
    "nuclear_sampling()"
   ]
  },
  {
   "cell_type": "code",
   "execution_count": 9,
   "metadata": {},
   "outputs": [],
   "source": [
    "src.bin_chr_wise.compt_chr_and_bin_wise()"
   ]
  },
  {
   "cell_type": "code",
   "execution_count": 10,
   "metadata": {},
   "outputs": [
    {
     "data": {
      "text/plain": [
       "<module 'src.whole_genome' from '/root/bsDoctor/src/whole_genome.py'>"
      ]
     },
     "execution_count": 10,
     "metadata": {},
     "output_type": "execute_result"
    }
   ],
   "source": [
    "import src.whole_genome\n",
    "reload(src.whole_genome)"
   ]
  },
  {
   "cell_type": "code",
   "execution_count": 11,
   "metadata": {},
   "outputs": [],
   "source": [
    "src.whole_genome.compt_whole_genome()"
   ]
  },
  {
   "cell_type": "code",
   "execution_count": 7,
   "metadata": {},
   "outputs": [],
   "source": [
    "# nuclear whole-genome\n",
    "plot_base_error_rate_by_AT()\n",
    "plot_theroretical_me_bias()\n",
    "plot_hist_me()\n"
   ]
  },
  {
   "cell_type": "code",
   "execution_count": 8,
   "metadata": {},
   "outputs": [],
   "source": [
    "# CpG strandness\n",
    "plot_heatmap_stranded_CpG_depth()\n",
    "plot_bar_CpG_depth_difference()\n",
    "plot_bar_double_srtanded_cpg()\n",
    "plot_heatmap_stranded_CpG_meth()\n",
    "plot_heatmap_stranded_meth_diff()\n"
   ]
  },
  {
   "cell_type": "code",
   "execution_count": 10,
   "metadata": {},
   "outputs": [
    {
     "data": {
      "text/plain": [
       "<module 'src.me_bias' from '/root/bsDoctor/src/me_bias.py'>"
      ]
     },
     "execution_count": 10,
     "metadata": {},
     "output_type": "execute_result"
    }
   ],
   "source": [
    "import src.me_bias\n",
    "reload(src.me_bias)"
   ]
  },
  {
   "cell_type": "code",
   "execution_count": 12,
   "metadata": {},
   "outputs": [],
   "source": [
    "# binning\n",
    "src.bin_chr_wise.plot_binning_meth()\n",
    "src.bin_chr_wise.plot_binning_depth()"
   ]
  },
  {
   "cell_type": "code",
   "execution_count": 13,
   "metadata": {},
   "outputs": [],
   "source": [
    "# me bias\n",
    "src.me_bias.plot_me_vs_depth_eq_k()\n",
    "src.me_bias.plot_me_vs_depth_ge_k()\n",
    "src.me_bias.plot_me_vs_missing()"
   ]
  },
  {
   "cell_type": "code",
   "execution_count": 73,
   "metadata": {},
   "outputs": [],
   "source": [
    "src.me_bias.plot_me_and_covrate_vs_cytosine_density()"
   ]
  },
  {
   "cell_type": "code",
   "execution_count": 13,
   "metadata": {},
   "outputs": [
    {
     "data": {
      "text/plain": [
       "<module 'src.depth_bias' from '/root/bsDoctor/src/depth_bias.py'>"
      ]
     },
     "execution_count": 13,
     "metadata": {},
     "output_type": "execute_result"
    }
   ],
   "source": [
    "import src.depth_bias\n",
    "reload(src.depth_bias)"
   ]
  },
  {
   "cell_type": "code",
   "execution_count": 83,
   "metadata": {},
   "outputs": [],
   "source": [
    "src.depth_bias.plot_covrate_vs_depth_of_cytosine()"
   ]
  },
  {
   "cell_type": "code",
   "execution_count": 96,
   "metadata": {},
   "outputs": [],
   "source": [
    "src.depth_bias.plot_covrate_vs_depth_of_whole_genome()"
   ]
  },
  {
   "cell_type": "code",
   "execution_count": 95,
   "metadata": {},
   "outputs": [],
   "source": [
    "src.depth_bias.plot_depth_dist_of_whole_genome()"
   ]
  },
  {
   "cell_type": "code",
   "execution_count": 97,
   "metadata": {},
   "outputs": [],
   "source": [
    "src.depth_bias.plot_depth_watson_vs_crick()"
   ]
  },
  {
   "cell_type": "code",
   "execution_count": 98,
   "metadata": {},
   "outputs": [],
   "source": [
    "src.depth_bias.plot_depth_overall_vs_me()"
   ]
  },
  {
   "cell_type": "code",
   "execution_count": 89,
   "metadata": {},
   "outputs": [],
   "source": [
    "# depth bias\n",
    "src.depth_bias.plot_depth_vs_cytosine_density()\n",
    "src.depth_bias.plot_depth_dist_by_low_high_me()\n",
    "src.depth_bias.plot_depth_dist_of_cytosine()\n"
   ]
  },
  {
   "cell_type": "code",
   "execution_count": 13,
   "metadata": {},
   "outputs": [
    {
     "data": {
      "text/plain": [
       "<module 'src.CpG_motif' from '/root/bsDoctor/src/CpG_motif.py'>"
      ]
     },
     "execution_count": 13,
     "metadata": {},
     "output_type": "execute_result"
    }
   ],
   "source": [
    "import src.CpG_motif\n",
    "reload(src.CpG_motif)"
   ]
  },
  {
   "cell_type": "code",
   "execution_count": 14,
   "metadata": {},
   "outputs": [],
   "source": [
    "src.CpG_motif.compt_CpG_motif()"
   ]
  },
  {
   "cell_type": "code",
   "execution_count": 20,
   "metadata": {},
   "outputs": [],
   "source": [
    "src.CpG_motif.plot_hist_CpG_motif_freq()"
   ]
  },
  {
   "cell_type": "code",
   "execution_count": 21,
   "metadata": {},
   "outputs": [],
   "source": [
    "src.CpG_motif.plot_CpG_motif_freq_watson_vs_crick()"
   ]
  },
  {
   "cell_type": "code",
   "execution_count": 22,
   "metadata": {},
   "outputs": [],
   "source": [
    "src.CpG_motif.plot_CpG_motif_me_watson_vs_crick()"
   ]
  },
  {
   "cell_type": "code",
   "execution_count": 23,
   "metadata": {},
   "outputs": [],
   "source": [
    "src.CpG_motif.plot_CpG_motif_depth_vs_freq()"
   ]
  },
  {
   "cell_type": "code",
   "execution_count": 24,
   "metadata": {},
   "outputs": [],
   "source": [
    "src.CpG_motif.plot_CpG_motif_me_vs_freq()"
   ]
  },
  {
   "cell_type": "code",
   "execution_count": 30,
   "metadata": {},
   "outputs": [],
   "source": [
    "src.CpG_motif.plot_CpG_motif_covrate_vs_depth()"
   ]
  },
  {
   "cell_type": "code",
   "execution_count": 37,
   "metadata": {},
   "outputs": [],
   "source": [
    "src.CpG_motif.plot_CpG_motif_me_vs_depth()"
   ]
  },
  {
   "cell_type": "code",
   "execution_count": 15,
   "metadata": {},
   "outputs": [
    {
     "data": {
      "text/plain": [
       "<module 'src.RRBS' from '/root/bsDoctor/src/RRBS.py'>"
      ]
     },
     "execution_count": 15,
     "metadata": {},
     "output_type": "execute_result"
    }
   ],
   "source": [
    "import src.RRBS\n",
    "\n",
    "\n",
    "reload(src.RRBS)"
   ]
  },
  {
   "cell_type": "code",
   "execution_count": 16,
   "metadata": {},
   "outputs": [],
   "source": [
    "src.RRBS.compt_RRBS()"
   ]
  },
  {
   "cell_type": "code",
   "execution_count": 55,
   "metadata": {},
   "outputs": [],
   "source": [
    "src.RRBS.plot_RRBS_CpG_motifs()"
   ]
  },
  {
   "cell_type": "code",
   "execution_count": 17,
   "metadata": {},
   "outputs": [
    {
     "data": {
      "text/plain": [
       "<module 'src.saturation_curve_and_DNA_lost' from '/root/bsDoctor/src/saturation_curve_and_DNA_lost.py'>"
      ]
     },
     "execution_count": 17,
     "metadata": {},
     "output_type": "execute_result"
    }
   ],
   "source": [
    "import src.saturation_curve_and_DNA_lost\n",
    "reload(src.saturation_curve_and_DNA_lost)"
   ]
  },
  {
   "cell_type": "code",
   "execution_count": 18,
   "metadata": {},
   "outputs": [],
   "source": [
    "src.saturation_curve_and_DNA_lost.compt_plot_DNA_composition()"
   ]
  },
  {
   "cell_type": "code",
   "execution_count": 19,
   "metadata": {},
   "outputs": [],
   "source": [
    "src.saturation_curve_and_DNA_lost.plot_saturation_curve()"
   ]
  },
  {
   "cell_type": "code",
   "execution_count": null,
   "metadata": {},
   "outputs": [],
   "source": []
  },
  {
   "cell_type": "code",
   "execution_count": 32,
   "metadata": {},
   "outputs": [],
   "source": [
    "\n",
    "d = params['dict_cgkmer']\n",
    "nw = np.array([x.nW for _, x in d.items()])"
   ]
  },
  {
   "cell_type": "code",
   "execution_count": 34,
   "metadata": {},
   "outputs": [
    {
     "data": {
      "text/plain": [
       "np.int64(58)"
      ]
     },
     "execution_count": 34,
     "metadata": {},
     "output_type": "execute_result"
    }
   ],
   "source": [
    "nw.min()"
   ]
  },
  {
   "cell_type": "code",
   "execution_count": 33,
   "metadata": {},
   "outputs": [
    {
     "data": {
      "text/plain": [
       "(array([51., 99., 49., 30.,  9.,  7.,  1.,  1.,  6.,  3.]),\n",
       " array([  58. ,  322.3,  586.6,  850.9, 1115.2, 1379.5, 1643.8, 1908.1,\n",
       "        2172.4, 2436.7, 2701. ]),\n",
       " <BarContainer object of 10 artists>)"
      ]
     },
     "execution_count": 33,
     "metadata": {},
     "output_type": "execute_result"
    },
    {
     "data": {
      "image/png": "[encoded data removed]",
      "text/plain": [
       "<Figure size 640x480 with 1 Axes>"
      ]
     },
     "metadata": {},
     "output_type": "display_data"
    }
   ],
   "source": [
    "plt.hist(nw)"
   ]
  }
 ],
 "metadata": {
  "kernelspec": {
   "display_name": ".venv",
   "language": "python",
   "name": "python3"
  },
  "language_info": {
   "codemirror_mode": {
    "name": "ipython",
    "version": 3
   },
   "file_extension": ".py",
   "mimetype": "text/x-python",
   "name": "python",
   "nbconvert_exporter": "python",
   "pygments_lexer": "ipython3",
   "version": "3.12.4"
  }
 },
 "nbformat": 4,
 "nbformat_minor": 2
}
