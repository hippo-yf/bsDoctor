{
 "cells": [
  {
   "cell_type": "code",
   "execution_count": 5,
   "metadata": {},
   "outputs": [],
   "source": [
    "\n",
    "from bsDoctor import *\n",
    "# import cProfile\n",
    "from importlib import reload"
   ]
  },
  {
   "cell_type": "code",
   "execution_count": 2,
   "metadata": {},
   "outputs": [
    {
     "name": "stdout",
     "output_type": "stream",
     "text": [
      "nuclear bin size: 18590; sampling: 1000, 1673\n",
      "binSizeContig={'NC_037304.1': 370, 'NC_000932.1': 160} binsContig={'NC_037304.1': 995, 'NC_000932.1': 966}\n"
     ]
    }
   ],
   "source": [
    "# args = '-b data/SRR19264609.sorted.bam -f genome/hg38.fa -g genome/gencode.v46.annotation.gtf.gz --chr chr20,chr21,chr22 --mt chrM --control chrL'.split(' ')\n",
    " \n",
    "# args = '-b data/SRR19264609.sorted.bam -f genome/hg38.fa -g genome/gencode.v46.annotation.gtf.gz --chr chr20,chr21,chr22 --mt chrM --control chrL --max-chr-nbins 3000 --bin-size 10000 --sampling-prop 0.1 -o rrbs-human2'.split(' ')\n",
    "\n",
    "args = '-b data/SRR23252523.sorted.bam -f genome/GCF_000001735.4_TAIR10.1_genomic.fna -g genome/GCF_000001735.4_TAIR10.1_genomic.gtf.gz --chr NC_003075.7 --mt NC_037304.1 --plastid NC_000932.1 --num-pangene 1000 --max-chr-nbins 1000 -o wgbs-plant'.split(' ')\n",
    "\n",
    "desc = \"bsDoctor: Quality Diagnosis for Bisulfite-Seq Data\"\n",
    "parser = MyArgumentParser(description=desc)\n",
    "options = parser.parse_args(args)\n",
    "\n",
    "check_args(options)\n",
    "config_params(options)      \n",
    "config_params_further()"
   ]
  },
  {
   "cell_type": "code",
   "execution_count": null,
   "metadata": {},
   "outputs": [],
   "source": [
    "params"
   ]
  },
  {
   "cell_type": "code",
   "execution_count": 3,
   "metadata": {},
   "outputs": [
    {
     "name": "stderr",
     "output_type": "stream",
     "text": [
      "Sampling nuclear chr: 100%|██████████| 6870/6870 [02:43<00:00, 42.13it/s]\n"
     ]
    }
   ],
   "source": [
    "nuclear_sampling()\n",
    "compt_chr_and_bin_wise()"
   ]
  },
  {
   "cell_type": "code",
   "execution_count": 6,
   "metadata": {},
   "outputs": [
    {
     "data": {
      "text/plain": [
       "<module 'src.depth_bias' from '/root/bsDoctor/src/depth_bias.py'>"
      ]
     },
     "execution_count": 6,
     "metadata": {},
     "output_type": "execute_result"
    }
   ],
   "source": [
    "import src.depth_bias\n",
    "reload(src.depth_bias)"
   ]
  },
  {
   "cell_type": "code",
   "execution_count": 7,
   "metadata": {},
   "outputs": [
    {
     "ename": "KeyError",
     "evalue": "'dict_binning'",
     "output_type": "error",
     "traceback": [
      "\u001b[0;31m---------------------------------------------------------------------------\u001b[0m",
      "\u001b[0;31mKeyError\u001b[0m                                  Traceback (most recent call last)",
      "Cell \u001b[0;32mIn[7], line 1\u001b[0m\n\u001b[0;32m----> 1\u001b[0m \u001b[43msrc\u001b[49m\u001b[38;5;241;43m.\u001b[39;49m\u001b[43mdepth_bias\u001b[49m\u001b[38;5;241;43m.\u001b[39;49m\u001b[43mplot_depth_AT_vs_CG\u001b[49m\u001b[43m(\u001b[49m\u001b[43m)\u001b[49m\n",
      "File \u001b[0;32m~/bsDoctor/src/depth_bias.py:336\u001b[0m, in \u001b[0;36mplot_depth_AT_vs_CG\u001b[0;34m()\u001b[0m\n\u001b[1;32m    335\u001b[0m \u001b[38;5;28;01mdef\u001b[39;00m \u001b[38;5;21mplot_depth_AT_vs_CG\u001b[39m() \u001b[38;5;241m-\u001b[39m\u001b[38;5;241m>\u001b[39m \u001b[38;5;28;01mNone\u001b[39;00m:\n\u001b[0;32m--> 336\u001b[0m     dict_binning \u001b[38;5;241m=\u001b[39m \u001b[43mparams\u001b[49m\u001b[43m[\u001b[49m\u001b[38;5;124;43m'\u001b[39;49m\u001b[38;5;124;43mdict_binning\u001b[39;49m\u001b[38;5;124;43m'\u001b[39;49m\u001b[43m]\u001b[49m\n\u001b[1;32m    337\u001b[0m     img_dir \u001b[38;5;241m=\u001b[39m params[\u001b[38;5;124m'\u001b[39m\u001b[38;5;124mimg_dir\u001b[39m\u001b[38;5;124m'\u001b[39m]\n\u001b[1;32m    338\u001b[0m     save_svg \u001b[38;5;241m=\u001b[39m params[\u001b[38;5;124m'\u001b[39m\u001b[38;5;124msave_svg\u001b[39m\u001b[38;5;124m'\u001b[39m]\n",
      "\u001b[0;31mKeyError\u001b[0m: 'dict_binning'"
     ]
    }
   ],
   "source": [
    "src.depth_bias.plot_depth_AT_vs_CG()"
   ]
  },
  {
   "cell_type": "code",
   "execution_count": 5,
   "metadata": {},
   "outputs": [],
   "source": [
    "compt_whole_genome()"
   ]
  },
  {
   "cell_type": "code",
   "execution_count": 6,
   "metadata": {},
   "outputs": [],
   "source": [
    "plot_binning_meth()\n",
    "plot_binning_depth()"
   ]
  },
  {
   "cell_type": "code",
   "execution_count": 4,
   "metadata": {},
   "outputs": [
    {
     "name": "stderr",
     "output_type": "stream",
     "text": [
      "Sampling coding genes: 100%|██████████| 1000/1000 [01:36<00:00, 10.33it/s]\n",
      "Sampling long noncoding genes: 100%|██████████| 1000/1000 [00:39<00:00, 25.51it/s]\n",
      "Sampling other non-coding genes: 100%|██████████| 1000/1000 [00:14<00:00, 68.47it/s]\n"
     ]
    }
   ],
   "source": [
    "# pangene\n",
    "if data['include_pangene']:\n",
    "    pangene_sampling()\n",
    "    pangene_compt_plot_meth()"
   ]
  },
  {
   "cell_type": "code",
   "execution_count": 3,
   "metadata": {},
   "outputs": [
    {
     "name": "stderr",
     "output_type": "stream",
     "text": [
      "Sampling coding genes: 100%|██████████| 1000/1000 [01:04<00:00, 15.52it/s]\n",
      "Sampling long noncoding genes: 100%|██████████| 1000/1000 [00:35<00:00, 27.84it/s]\n",
      "Sampling other non-coding genes: 100%|██████████| 1000/1000 [00:11<00:00, 83.78it/s]\n",
      "Sampling MT: 100%|██████████| 4/4 [00:02<00:00,  1.67it/s]\n",
      "Sampling control DNA: 100%|██████████| 10/10 [00:00<00:00, 79.13it/s]\n",
      "Sampling nuclear chr: 100%|██████████| 272449/272449 [23:06<00:00, 196.55it/s] \n"
     ]
    }
   ],
   "source": [
    "compute_and_plot()"
   ]
  },
  {
   "cell_type": "code",
   "execution_count": 1,
   "metadata": {},
   "outputs": [],
   "source": [
    "import bsDoctor\n",
    "import pickle\n",
    "\n",
    "with open('wgbs-plant/data.pickle', 'rb') as f:\n",
    "    bsDoctor.data = pickle.load(f)"
   ]
  },
  {
   "cell_type": "code",
   "execution_count": 14,
   "metadata": {},
   "outputs": [],
   "source": [
    "bsDoctor.write_report()"
   ]
  }
 ],
 "metadata": {
  "kernelspec": {
   "display_name": ".venv",
   "language": "python",
   "name": "python3"
  },
  "language_info": {
   "codemirror_mode": {
    "name": "ipython",
    "version": 3
   },
   "file_extension": ".py",
   "mimetype": "text/x-python",
   "name": "python",
   "nbconvert_exporter": "python",
   "pygments_lexer": "ipython3",
   "version": "3.12.4"
  }
 },
 "nbformat": 4,
 "nbformat_minor": 2
}
